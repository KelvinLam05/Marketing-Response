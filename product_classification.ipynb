{
  "nbformat": 4,
  "nbformat_minor": 0,
  "metadata": {
    "colab": {
      "name": "product_classification.ipynb",
      "provenance": [],
      "collapsed_sections": [],
      "authorship_tag": "ABX9TyMzHRKeaRpQPHje0OgJsBKQ",
      "include_colab_link": true
    },
    "kernelspec": {
      "name": "python3",
      "display_name": "Python 3"
    },
    "language_info": {
      "name": "python"
    }
  },
  "cells": [
    {
      "cell_type": "markdown",
      "metadata": {
        "id": "view-in-github",
        "colab_type": "text"
      },
      "source": [
        "<a href=\"https://colab.research.google.com/github/KelvinLam05/product_classification/blob/main/product_classification.ipynb\" target=\"_parent\"><img src=\"https://colab.research.google.com/assets/colab-badge.svg\" alt=\"Open In Colab\"/></a>"
      ]
    },
    {
      "cell_type": "markdown",
      "source": [
        "**Goal of the project**"
      ],
      "metadata": {
        "id": "ExXmsGvCccqd"
      }
    },
    {
      "cell_type": "markdown",
      "source": [
        "Assigning products to the right categories is crucial to allowing customers to find what they’re looking for, so product classification models are commonly used by online marketplaces to ensure that products are assigned to the right product categories when listed by third parties.\n",
        "In this project, we will use a fastText classifier to predict product categories from product names."
      ],
      "metadata": {
        "id": "t2pbnk-4cg2y"
      }
    },
    {
      "cell_type": "code",
      "execution_count": 266,
      "metadata": {
        "id": "ywLLWho2ydVY"
      },
      "outputs": [],
      "source": [
        "import pandas as pd\n",
        "import fasttext"
      ]
    },
    {
      "cell_type": "markdown",
      "source": [
        "**Load the data**"
      ],
      "metadata": {
        "id": "TzXW0A-zaB4H"
      }
    },
    {
      "cell_type": "markdown",
      "source": [
        "The dataset I’m using is a [PriceRunner](https://www.kaggle.com/datasets/lakritidis/product-classification-and-categorization?select=pricerunner_aggregate.csv) dataset which is ideal for product classification problems. It includes 35,311 product names from various online retailers which map to 12,849 product names assigned to 10 different product categories.\n",
        "\n",
        "The names the vendors have used for the products are all slightly different. Our aim is to predict which category_label a product will have from its product name."
      ],
      "metadata": {
        "id": "PEDCoL_JZ8Am"
      }
    },
    {
      "cell_type": "code",
      "source": [
        "# Load dataset\n",
        "df = pd.read_csv('/content/pricerunner_aggregate.csv', names = ['product_id', 'product_title', 'vendor_id', 'cluster_id', 'cluster_label', 'category_id', 'category_label'])"
      ],
      "metadata": {
        "id": "3cKqqnsC0kGz"
      },
      "execution_count": 267,
      "outputs": []
    },
    {
      "cell_type": "code",
      "source": [
        "df = df[['category_label', 'product_title']]"
      ],
      "metadata": {
        "id": "cMIe0M842Sh1"
      },
      "execution_count": 268,
      "outputs": []
    },
    {
      "cell_type": "code",
      "source": [
        "# Examine the data\n",
        "df.head()"
      ],
      "metadata": {
        "colab": {
          "base_uri": "https://localhost:8080/",
          "height": 204
        },
        "id": "TBAP08ghv1zw",
        "outputId": "3efb072d-7b31-488b-b0b0-d6235da89da9"
      },
      "execution_count": 269,
      "outputs": [
        {
          "output_type": "execute_result",
          "data": {
            "text/plain": [
              "  category_label                                      product_title\n",
              "0  Mobile Phones                    apple iphone 8 plus 64gb silver\n",
              "1  Mobile Phones                apple iphone 8 plus 64 gb spacegrau\n",
              "2  Mobile Phones  apple mq8n2b/a iphone 8 plus 64gb 5.5 12mp sim...\n",
              "3  Mobile Phones                apple iphone 8 plus 64gb space grey\n",
              "4  Mobile Phones  apple iphone 8 plus gold 5.5 64gb 4g unlocked ..."
            ],
            "text/html": [
              "\n",
              "  <div id=\"df-ae240b4c-e953-457e-8a90-d1fdcb2c6132\">\n",
              "    <div class=\"colab-df-container\">\n",
              "      <div>\n",
              "<style scoped>\n",
              "    .dataframe tbody tr th:only-of-type {\n",
              "        vertical-align: middle;\n",
              "    }\n",
              "\n",
              "    .dataframe tbody tr th {\n",
              "        vertical-align: top;\n",
              "    }\n",
              "\n",
              "    .dataframe thead th {\n",
              "        text-align: right;\n",
              "    }\n",
              "</style>\n",
              "<table border=\"1\" class=\"dataframe\">\n",
              "  <thead>\n",
              "    <tr style=\"text-align: right;\">\n",
              "      <th></th>\n",
              "      <th>category_label</th>\n",
              "      <th>product_title</th>\n",
              "    </tr>\n",
              "  </thead>\n",
              "  <tbody>\n",
              "    <tr>\n",
              "      <th>0</th>\n",
              "      <td>Mobile Phones</td>\n",
              "      <td>apple iphone 8 plus 64gb silver</td>\n",
              "    </tr>\n",
              "    <tr>\n",
              "      <th>1</th>\n",
              "      <td>Mobile Phones</td>\n",
              "      <td>apple iphone 8 plus 64 gb spacegrau</td>\n",
              "    </tr>\n",
              "    <tr>\n",
              "      <th>2</th>\n",
              "      <td>Mobile Phones</td>\n",
              "      <td>apple mq8n2b/a iphone 8 plus 64gb 5.5 12mp sim...</td>\n",
              "    </tr>\n",
              "    <tr>\n",
              "      <th>3</th>\n",
              "      <td>Mobile Phones</td>\n",
              "      <td>apple iphone 8 plus 64gb space grey</td>\n",
              "    </tr>\n",
              "    <tr>\n",
              "      <th>4</th>\n",
              "      <td>Mobile Phones</td>\n",
              "      <td>apple iphone 8 plus gold 5.5 64gb 4g unlocked ...</td>\n",
              "    </tr>\n",
              "  </tbody>\n",
              "</table>\n",
              "</div>\n",
              "      <button class=\"colab-df-convert\" onclick=\"convertToInteractive('df-ae240b4c-e953-457e-8a90-d1fdcb2c6132')\"\n",
              "              title=\"Convert this dataframe to an interactive table.\"\n",
              "              style=\"display:none;\">\n",
              "        \n",
              "  <svg xmlns=\"http://www.w3.org/2000/svg\" height=\"24px\"viewBox=\"0 0 24 24\"\n",
              "       width=\"24px\">\n",
              "    <path d=\"M0 0h24v24H0V0z\" fill=\"none\"/>\n",
              "    <path d=\"M18.56 5.44l.94 2.06.94-2.06 2.06-.94-2.06-.94-.94-2.06-.94 2.06-2.06.94zm-11 1L8.5 8.5l.94-2.06 2.06-.94-2.06-.94L8.5 2.5l-.94 2.06-2.06.94zm10 10l.94 2.06.94-2.06 2.06-.94-2.06-.94-.94-2.06-.94 2.06-2.06.94z\"/><path d=\"M17.41 7.96l-1.37-1.37c-.4-.4-.92-.59-1.43-.59-.52 0-1.04.2-1.43.59L10.3 9.45l-7.72 7.72c-.78.78-.78 2.05 0 2.83L4 21.41c.39.39.9.59 1.41.59.51 0 1.02-.2 1.41-.59l7.78-7.78 2.81-2.81c.8-.78.8-2.07 0-2.86zM5.41 20L4 18.59l7.72-7.72 1.47 1.35L5.41 20z\"/>\n",
              "  </svg>\n",
              "      </button>\n",
              "      \n",
              "  <style>\n",
              "    .colab-df-container {\n",
              "      display:flex;\n",
              "      flex-wrap:wrap;\n",
              "      gap: 12px;\n",
              "    }\n",
              "\n",
              "    .colab-df-convert {\n",
              "      background-color: #E8F0FE;\n",
              "      border: none;\n",
              "      border-radius: 50%;\n",
              "      cursor: pointer;\n",
              "      display: none;\n",
              "      fill: #1967D2;\n",
              "      height: 32px;\n",
              "      padding: 0 0 0 0;\n",
              "      width: 32px;\n",
              "    }\n",
              "\n",
              "    .colab-df-convert:hover {\n",
              "      background-color: #E2EBFA;\n",
              "      box-shadow: 0px 1px 2px rgba(60, 64, 67, 0.3), 0px 1px 3px 1px rgba(60, 64, 67, 0.15);\n",
              "      fill: #174EA6;\n",
              "    }\n",
              "\n",
              "    [theme=dark] .colab-df-convert {\n",
              "      background-color: #3B4455;\n",
              "      fill: #D2E3FC;\n",
              "    }\n",
              "\n",
              "    [theme=dark] .colab-df-convert:hover {\n",
              "      background-color: #434B5C;\n",
              "      box-shadow: 0px 1px 3px 1px rgba(0, 0, 0, 0.15);\n",
              "      filter: drop-shadow(0px 1px 2px rgba(0, 0, 0, 0.3));\n",
              "      fill: #FFFFFF;\n",
              "    }\n",
              "  </style>\n",
              "\n",
              "      <script>\n",
              "        const buttonEl =\n",
              "          document.querySelector('#df-ae240b4c-e953-457e-8a90-d1fdcb2c6132 button.colab-df-convert');\n",
              "        buttonEl.style.display =\n",
              "          google.colab.kernel.accessAllowed ? 'block' : 'none';\n",
              "\n",
              "        async function convertToInteractive(key) {\n",
              "          const element = document.querySelector('#df-ae240b4c-e953-457e-8a90-d1fdcb2c6132');\n",
              "          const dataTable =\n",
              "            await google.colab.kernel.invokeFunction('convertToInteractive',\n",
              "                                                     [key], {});\n",
              "          if (!dataTable) return;\n",
              "\n",
              "          const docLinkHtml = 'Like what you see? Visit the ' +\n",
              "            '<a target=\"_blank\" href=https://colab.research.google.com/notebooks/data_table.ipynb>data table notebook</a>'\n",
              "            + ' to learn more about interactive tables.';\n",
              "          element.innerHTML = '';\n",
              "          dataTable['output_type'] = 'display_data';\n",
              "          await google.colab.output.renderOutput(dataTable, element);\n",
              "          const docLink = document.createElement('div');\n",
              "          docLink.innerHTML = docLinkHtml;\n",
              "          element.appendChild(docLink);\n",
              "        }\n",
              "      </script>\n",
              "    </div>\n",
              "  </div>\n",
              "  "
            ]
          },
          "metadata": {},
          "execution_count": 269
        }
      ]
    },
    {
      "cell_type": "code",
      "source": [
        "df.info()"
      ],
      "metadata": {
        "colab": {
          "base_uri": "https://localhost:8080/"
        },
        "id": "wDekzumB0luJ",
        "outputId": "39767e4c-405d-47d6-c1ca-bdcd8b8e50b6"
      },
      "execution_count": 270,
      "outputs": [
        {
          "output_type": "stream",
          "name": "stdout",
          "text": [
            "<class 'pandas.core.frame.DataFrame'>\n",
            "RangeIndex: 35311 entries, 0 to 35310\n",
            "Data columns (total 2 columns):\n",
            " #   Column          Non-Null Count  Dtype \n",
            "---  ------          --------------  ----- \n",
            " 0   category_label  35311 non-null  object\n",
            " 1   product_title   35311 non-null  object\n",
            "dtypes: object(2)\n",
            "memory usage: 551.9+ KB\n"
          ]
        }
      ]
    },
    {
      "cell_type": "markdown",
      "source": [
        "**Split the training and test data**"
      ],
      "metadata": {
        "id": "Jp5DeF_0Wktp"
      }
    },
    {
      "cell_type": "markdown",
      "source": [
        "Before training our classifier, we need to split the data into train and test. We will use the test set to evaluate how good the learned classifier is on new data."
      ],
      "metadata": {
        "id": "RMWwlblgZPtO"
      }
    },
    {
      "cell_type": "code",
      "source": [
        "X = df['product_title']"
      ],
      "metadata": {
        "id": "CLjhQp3nZ0Vp"
      },
      "execution_count": 271,
      "outputs": []
    },
    {
      "cell_type": "code",
      "source": [
        "y = df['category_label']"
      ],
      "metadata": {
        "id": "ctXHnyeiZ0I1"
      },
      "execution_count": 272,
      "outputs": []
    },
    {
      "cell_type": "markdown",
      "source": [
        "For the train-test split we use stratify to keep the ratio of category labels."
      ],
      "metadata": {
        "id": "cGVngcQdhsXy"
      }
    },
    {
      "cell_type": "code",
      "source": [
        "from sklearn.model_selection import train_test_split"
      ],
      "metadata": {
        "id": "X1D3gBZHEVw4"
      },
      "execution_count": 273,
      "outputs": []
    },
    {
      "cell_type": "code",
      "source": [
        "X_train, X_test, y_train, y_test = train_test_split(X, y, test_size = 0.2, random_state = 42, stratify = y)"
      ],
      "metadata": {
        "id": "Jg0iAdsNFgEs"
      },
      "execution_count": 274,
      "outputs": []
    },
    {
      "cell_type": "code",
      "source": [
        "X_train = pd.DataFrame(X_train)"
      ],
      "metadata": {
        "id": "KO685Pzmc8tJ"
      },
      "execution_count": 275,
      "outputs": []
    },
    {
      "cell_type": "code",
      "source": [
        "train = X_train.join(y_train)"
      ],
      "metadata": {
        "id": "z4ZFLi-ucBoX"
      },
      "execution_count": 276,
      "outputs": []
    },
    {
      "cell_type": "code",
      "source": [
        "X_test = pd.DataFrame(X_test)"
      ],
      "metadata": {
        "id": "cGuLhz4Zd_v5"
      },
      "execution_count": 277,
      "outputs": []
    },
    {
      "cell_type": "code",
      "source": [
        "test = X_test.join(y_test)"
      ],
      "metadata": {
        "id": "9l9awXPFcltZ"
      },
      "execution_count": 278,
      "outputs": []
    },
    {
      "cell_type": "markdown",
      "source": [
        "**Formatting the labels**"
      ],
      "metadata": {
        "id": "NHZGS555eTy2"
      }
    },
    {
      "cell_type": "markdown",
      "source": [
        "The format of the text that goes into a fastText is a series/list, with each element as a string of text including its respective labels. All the labels/categories in fastText start by the \"`__label__`\" prefix, which is how fastText recognize what is a label or what is a word. The model is then trained to predict the labels given the word in the document. So now we will add `__label__` in front of the category for fastText to read it as a label and then combine the labels and words into a single string."
      ],
      "metadata": {
        "id": "ZXeH0a6JWBtr"
      }
    },
    {
      "cell_type": "code",
      "source": [
        "train['category_label'] = '__label__' + train['category_label'] + ' ' + train['product_title']"
      ],
      "metadata": {
        "id": "ZhrG3NE-GMzO"
      },
      "execution_count": 279,
      "outputs": []
    },
    {
      "cell_type": "code",
      "source": [
        "test['category_label'] = '__label__' + test['category_label'] + ' ' + test['product_title']"
      ],
      "metadata": {
        "id": "zRjyZ2s7UVc9"
      },
      "execution_count": 280,
      "outputs": []
    },
    {
      "cell_type": "code",
      "source": [
        "train.head()"
      ],
      "metadata": {
        "colab": {
          "base_uri": "https://localhost:8080/",
          "height": 204
        },
        "id": "kyZvCH9lOxh6",
        "outputId": "a4b578d3-d4c3-423d-b0e4-9efde6e7487f"
      },
      "execution_count": 281,
      "outputs": [
        {
          "output_type": "execute_result",
          "data": {
            "text/plain": [
              "                                           product_title  \\\n",
              "22570  candy gvs148dc3b freestanding 8kg washing mach...   \n",
              "31978                   liebherr k2330 tall fridge white   \n",
              "6110   sharp lc 55cug8362ks 55 inch 4k ultra hd smart...   \n",
              "7588      samsung ue55hu8500 55 ultra hd 3d smart led tv   \n",
              "19133      siemens iq300 sn436s01me unterbau 13stellen a   \n",
              "\n",
              "                                          category_label  \n",
              "22570  __label__Washing Machines candy gvs148dc3b fre...  \n",
              "31978  __label__Fridges liebherr k2330 tall fridge white  \n",
              "6110   __label__TVs sharp lc 55cug8362ks 55 inch 4k u...  \n",
              "7588   __label__TVs samsung ue55hu8500 55 ultra hd 3d...  \n",
              "19133  __label__Dishwashers siemens iq300 sn436s01me ...  "
            ],
            "text/html": [
              "\n",
              "  <div id=\"df-7a242aab-e1a1-4dac-ae9e-6d670126645a\">\n",
              "    <div class=\"colab-df-container\">\n",
              "      <div>\n",
              "<style scoped>\n",
              "    .dataframe tbody tr th:only-of-type {\n",
              "        vertical-align: middle;\n",
              "    }\n",
              "\n",
              "    .dataframe tbody tr th {\n",
              "        vertical-align: top;\n",
              "    }\n",
              "\n",
              "    .dataframe thead th {\n",
              "        text-align: right;\n",
              "    }\n",
              "</style>\n",
              "<table border=\"1\" class=\"dataframe\">\n",
              "  <thead>\n",
              "    <tr style=\"text-align: right;\">\n",
              "      <th></th>\n",
              "      <th>product_title</th>\n",
              "      <th>category_label</th>\n",
              "    </tr>\n",
              "  </thead>\n",
              "  <tbody>\n",
              "    <tr>\n",
              "      <th>22570</th>\n",
              "      <td>candy gvs148dc3b freestanding 8kg washing mach...</td>\n",
              "      <td>__label__Washing Machines candy gvs148dc3b fre...</td>\n",
              "    </tr>\n",
              "    <tr>\n",
              "      <th>31978</th>\n",
              "      <td>liebherr k2330 tall fridge white</td>\n",
              "      <td>__label__Fridges liebherr k2330 tall fridge white</td>\n",
              "    </tr>\n",
              "    <tr>\n",
              "      <th>6110</th>\n",
              "      <td>sharp lc 55cug8362ks 55 inch 4k ultra hd smart...</td>\n",
              "      <td>__label__TVs sharp lc 55cug8362ks 55 inch 4k u...</td>\n",
              "    </tr>\n",
              "    <tr>\n",
              "      <th>7588</th>\n",
              "      <td>samsung ue55hu8500 55 ultra hd 3d smart led tv</td>\n",
              "      <td>__label__TVs samsung ue55hu8500 55 ultra hd 3d...</td>\n",
              "    </tr>\n",
              "    <tr>\n",
              "      <th>19133</th>\n",
              "      <td>siemens iq300 sn436s01me unterbau 13stellen a</td>\n",
              "      <td>__label__Dishwashers siemens iq300 sn436s01me ...</td>\n",
              "    </tr>\n",
              "  </tbody>\n",
              "</table>\n",
              "</div>\n",
              "      <button class=\"colab-df-convert\" onclick=\"convertToInteractive('df-7a242aab-e1a1-4dac-ae9e-6d670126645a')\"\n",
              "              title=\"Convert this dataframe to an interactive table.\"\n",
              "              style=\"display:none;\">\n",
              "        \n",
              "  <svg xmlns=\"http://www.w3.org/2000/svg\" height=\"24px\"viewBox=\"0 0 24 24\"\n",
              "       width=\"24px\">\n",
              "    <path d=\"M0 0h24v24H0V0z\" fill=\"none\"/>\n",
              "    <path d=\"M18.56 5.44l.94 2.06.94-2.06 2.06-.94-2.06-.94-.94-2.06-.94 2.06-2.06.94zm-11 1L8.5 8.5l.94-2.06 2.06-.94-2.06-.94L8.5 2.5l-.94 2.06-2.06.94zm10 10l.94 2.06.94-2.06 2.06-.94-2.06-.94-.94-2.06-.94 2.06-2.06.94z\"/><path d=\"M17.41 7.96l-1.37-1.37c-.4-.4-.92-.59-1.43-.59-.52 0-1.04.2-1.43.59L10.3 9.45l-7.72 7.72c-.78.78-.78 2.05 0 2.83L4 21.41c.39.39.9.59 1.41.59.51 0 1.02-.2 1.41-.59l7.78-7.78 2.81-2.81c.8-.78.8-2.07 0-2.86zM5.41 20L4 18.59l7.72-7.72 1.47 1.35L5.41 20z\"/>\n",
              "  </svg>\n",
              "      </button>\n",
              "      \n",
              "  <style>\n",
              "    .colab-df-container {\n",
              "      display:flex;\n",
              "      flex-wrap:wrap;\n",
              "      gap: 12px;\n",
              "    }\n",
              "\n",
              "    .colab-df-convert {\n",
              "      background-color: #E8F0FE;\n",
              "      border: none;\n",
              "      border-radius: 50%;\n",
              "      cursor: pointer;\n",
              "      display: none;\n",
              "      fill: #1967D2;\n",
              "      height: 32px;\n",
              "      padding: 0 0 0 0;\n",
              "      width: 32px;\n",
              "    }\n",
              "\n",
              "    .colab-df-convert:hover {\n",
              "      background-color: #E2EBFA;\n",
              "      box-shadow: 0px 1px 2px rgba(60, 64, 67, 0.3), 0px 1px 3px 1px rgba(60, 64, 67, 0.15);\n",
              "      fill: #174EA6;\n",
              "    }\n",
              "\n",
              "    [theme=dark] .colab-df-convert {\n",
              "      background-color: #3B4455;\n",
              "      fill: #D2E3FC;\n",
              "    }\n",
              "\n",
              "    [theme=dark] .colab-df-convert:hover {\n",
              "      background-color: #434B5C;\n",
              "      box-shadow: 0px 1px 3px 1px rgba(0, 0, 0, 0.15);\n",
              "      filter: drop-shadow(0px 1px 2px rgba(0, 0, 0, 0.3));\n",
              "      fill: #FFFFFF;\n",
              "    }\n",
              "  </style>\n",
              "\n",
              "      <script>\n",
              "        const buttonEl =\n",
              "          document.querySelector('#df-7a242aab-e1a1-4dac-ae9e-6d670126645a button.colab-df-convert');\n",
              "        buttonEl.style.display =\n",
              "          google.colab.kernel.accessAllowed ? 'block' : 'none';\n",
              "\n",
              "        async function convertToInteractive(key) {\n",
              "          const element = document.querySelector('#df-7a242aab-e1a1-4dac-ae9e-6d670126645a');\n",
              "          const dataTable =\n",
              "            await google.colab.kernel.invokeFunction('convertToInteractive',\n",
              "                                                     [key], {});\n",
              "          if (!dataTable) return;\n",
              "\n",
              "          const docLinkHtml = 'Like what you see? Visit the ' +\n",
              "            '<a target=\"_blank\" href=https://colab.research.google.com/notebooks/data_table.ipynb>data table notebook</a>'\n",
              "            + ' to learn more about interactive tables.';\n",
              "          element.innerHTML = '';\n",
              "          dataTable['output_type'] = 'display_data';\n",
              "          await google.colab.output.renderOutput(dataTable, element);\n",
              "          const docLink = document.createElement('div');\n",
              "          docLink.innerHTML = docLinkHtml;\n",
              "          element.appendChild(docLink);\n",
              "        }\n",
              "      </script>\n",
              "    </div>\n",
              "  </div>\n",
              "  "
            ]
          },
          "metadata": {},
          "execution_count": 281
        }
      ]
    },
    {
      "cell_type": "code",
      "source": [
        "test.head()"
      ],
      "metadata": {
        "colab": {
          "base_uri": "https://localhost:8080/",
          "height": 204
        },
        "id": "QSu60gRNTIg2",
        "outputId": "b904354e-217c-4ca5-ba13-d17bacbb67a1"
      },
      "execution_count": 282,
      "outputs": [
        {
          "output_type": "execute_result",
          "data": {
            "text/plain": [
              "                                           product_title  \\\n",
              "28703                            lec aff90185s/aff90185s   \n",
              "18841                  siemens geschirrsp ler sn636x01ke   \n",
              "4500   oled65b8 65 inch oled 4k ultra hd premium smar...   \n",
              "24503  bosch gsn36aw31g upright freezer freestanding ...   \n",
              "19305  nordmende dssn60ix semi integrated dishwasher ...   \n",
              "\n",
              "                                          category_label  \n",
              "28703   __label__Fridge Freezers lec aff90185s/aff90185s  \n",
              "18841  __label__Dishwashers siemens geschirrsp ler sn...  \n",
              "4500   __label__TVs oled65b8 65 inch oled 4k ultra hd...  \n",
              "24503  __label__Freezers bosch gsn36aw31g upright fre...  \n",
              "19305  __label__Dishwashers nordmende dssn60ix semi i...  "
            ],
            "text/html": [
              "\n",
              "  <div id=\"df-5e545c7c-b29b-4c93-af32-9c97f5ea1c02\">\n",
              "    <div class=\"colab-df-container\">\n",
              "      <div>\n",
              "<style scoped>\n",
              "    .dataframe tbody tr th:only-of-type {\n",
              "        vertical-align: middle;\n",
              "    }\n",
              "\n",
              "    .dataframe tbody tr th {\n",
              "        vertical-align: top;\n",
              "    }\n",
              "\n",
              "    .dataframe thead th {\n",
              "        text-align: right;\n",
              "    }\n",
              "</style>\n",
              "<table border=\"1\" class=\"dataframe\">\n",
              "  <thead>\n",
              "    <tr style=\"text-align: right;\">\n",
              "      <th></th>\n",
              "      <th>product_title</th>\n",
              "      <th>category_label</th>\n",
              "    </tr>\n",
              "  </thead>\n",
              "  <tbody>\n",
              "    <tr>\n",
              "      <th>28703</th>\n",
              "      <td>lec aff90185s/aff90185s</td>\n",
              "      <td>__label__Fridge Freezers lec aff90185s/aff90185s</td>\n",
              "    </tr>\n",
              "    <tr>\n",
              "      <th>18841</th>\n",
              "      <td>siemens geschirrsp ler sn636x01ke</td>\n",
              "      <td>__label__Dishwashers siemens geschirrsp ler sn...</td>\n",
              "    </tr>\n",
              "    <tr>\n",
              "      <th>4500</th>\n",
              "      <td>oled65b8 65 inch oled 4k ultra hd premium smar...</td>\n",
              "      <td>__label__TVs oled65b8 65 inch oled 4k ultra hd...</td>\n",
              "    </tr>\n",
              "    <tr>\n",
              "      <th>24503</th>\n",
              "      <td>bosch gsn36aw31g upright freezer freestanding ...</td>\n",
              "      <td>__label__Freezers bosch gsn36aw31g upright fre...</td>\n",
              "    </tr>\n",
              "    <tr>\n",
              "      <th>19305</th>\n",
              "      <td>nordmende dssn60ix semi integrated dishwasher ...</td>\n",
              "      <td>__label__Dishwashers nordmende dssn60ix semi i...</td>\n",
              "    </tr>\n",
              "  </tbody>\n",
              "</table>\n",
              "</div>\n",
              "      <button class=\"colab-df-convert\" onclick=\"convertToInteractive('df-5e545c7c-b29b-4c93-af32-9c97f5ea1c02')\"\n",
              "              title=\"Convert this dataframe to an interactive table.\"\n",
              "              style=\"display:none;\">\n",
              "        \n",
              "  <svg xmlns=\"http://www.w3.org/2000/svg\" height=\"24px\"viewBox=\"0 0 24 24\"\n",
              "       width=\"24px\">\n",
              "    <path d=\"M0 0h24v24H0V0z\" fill=\"none\"/>\n",
              "    <path d=\"M18.56 5.44l.94 2.06.94-2.06 2.06-.94-2.06-.94-.94-2.06-.94 2.06-2.06.94zm-11 1L8.5 8.5l.94-2.06 2.06-.94-2.06-.94L8.5 2.5l-.94 2.06-2.06.94zm10 10l.94 2.06.94-2.06 2.06-.94-2.06-.94-.94-2.06-.94 2.06-2.06.94z\"/><path d=\"M17.41 7.96l-1.37-1.37c-.4-.4-.92-.59-1.43-.59-.52 0-1.04.2-1.43.59L10.3 9.45l-7.72 7.72c-.78.78-.78 2.05 0 2.83L4 21.41c.39.39.9.59 1.41.59.51 0 1.02-.2 1.41-.59l7.78-7.78 2.81-2.81c.8-.78.8-2.07 0-2.86zM5.41 20L4 18.59l7.72-7.72 1.47 1.35L5.41 20z\"/>\n",
              "  </svg>\n",
              "      </button>\n",
              "      \n",
              "  <style>\n",
              "    .colab-df-container {\n",
              "      display:flex;\n",
              "      flex-wrap:wrap;\n",
              "      gap: 12px;\n",
              "    }\n",
              "\n",
              "    .colab-df-convert {\n",
              "      background-color: #E8F0FE;\n",
              "      border: none;\n",
              "      border-radius: 50%;\n",
              "      cursor: pointer;\n",
              "      display: none;\n",
              "      fill: #1967D2;\n",
              "      height: 32px;\n",
              "      padding: 0 0 0 0;\n",
              "      width: 32px;\n",
              "    }\n",
              "\n",
              "    .colab-df-convert:hover {\n",
              "      background-color: #E2EBFA;\n",
              "      box-shadow: 0px 1px 2px rgba(60, 64, 67, 0.3), 0px 1px 3px 1px rgba(60, 64, 67, 0.15);\n",
              "      fill: #174EA6;\n",
              "    }\n",
              "\n",
              "    [theme=dark] .colab-df-convert {\n",
              "      background-color: #3B4455;\n",
              "      fill: #D2E3FC;\n",
              "    }\n",
              "\n",
              "    [theme=dark] .colab-df-convert:hover {\n",
              "      background-color: #434B5C;\n",
              "      box-shadow: 0px 1px 3px 1px rgba(0, 0, 0, 0.15);\n",
              "      filter: drop-shadow(0px 1px 2px rgba(0, 0, 0, 0.3));\n",
              "      fill: #FFFFFF;\n",
              "    }\n",
              "  </style>\n",
              "\n",
              "      <script>\n",
              "        const buttonEl =\n",
              "          document.querySelector('#df-5e545c7c-b29b-4c93-af32-9c97f5ea1c02 button.colab-df-convert');\n",
              "        buttonEl.style.display =\n",
              "          google.colab.kernel.accessAllowed ? 'block' : 'none';\n",
              "\n",
              "        async function convertToInteractive(key) {\n",
              "          const element = document.querySelector('#df-5e545c7c-b29b-4c93-af32-9c97f5ea1c02');\n",
              "          const dataTable =\n",
              "            await google.colab.kernel.invokeFunction('convertToInteractive',\n",
              "                                                     [key], {});\n",
              "          if (!dataTable) return;\n",
              "\n",
              "          const docLinkHtml = 'Like what you see? Visit the ' +\n",
              "            '<a target=\"_blank\" href=https://colab.research.google.com/notebooks/data_table.ipynb>data table notebook</a>'\n",
              "            + ' to learn more about interactive tables.';\n",
              "          element.innerHTML = '';\n",
              "          dataTable['output_type'] = 'display_data';\n",
              "          await google.colab.output.renderOutput(dataTable, element);\n",
              "          const docLink = document.createElement('div');\n",
              "          docLink.innerHTML = docLinkHtml;\n",
              "          element.appendChild(docLink);\n",
              "        }\n",
              "      </script>\n",
              "    </div>\n",
              "  </div>\n",
              "  "
            ]
          },
          "metadata": {},
          "execution_count": 282
        }
      ]
    },
    {
      "cell_type": "markdown",
      "source": [
        "**Saving DataFrames as text files**"
      ],
      "metadata": {
        "id": "9uLVjlTgenls"
      }
    },
    {
      "cell_type": "markdown",
      "source": [
        "In the following step, we are saving our DataFrames as text files."
      ],
      "metadata": {
        "id": "rfoNOc7kcBLP"
      }
    },
    {
      "cell_type": "code",
      "source": [
        "import csv"
      ],
      "metadata": {
        "id": "DynDsuhIZiUi"
      },
      "execution_count": 283,
      "outputs": []
    },
    {
      "cell_type": "code",
      "source": [
        "# Write test and train into files\n",
        "train.to_csv('train.txt', \n",
        "             index = False, \n",
        "             sep = ' ',\n",
        "             header = None, \n",
        "             quoting = csv.QUOTE_NONE, \n",
        "             quotechar = \"\", \n",
        "             escapechar = \" \")\n",
        "\n",
        "test.to_csv('test.txt', \n",
        "            index = False, \n",
        "            sep = ' ',\n",
        "            header = None, \n",
        "            quoting = csv.QUOTE_NONE, \n",
        "            quotechar = \"\", \n",
        "            escapechar = \" \")"
      ],
      "metadata": {
        "id": "FjZtbeWkWr4P"
      },
      "execution_count": 284,
      "outputs": []
    },
    {
      "cell_type": "markdown",
      "source": [
        "**Our classifier**"
      ],
      "metadata": {
        "id": "1jDj5xlnXZMn"
      }
    },
    {
      "cell_type": "markdown",
      "source": [
        "We are now ready to train our classifier:"
      ],
      "metadata": {
        "id": "EFmyodWoXUsL"
      }
    },
    {
      "cell_type": "code",
      "source": [
        "model = fasttext.train_supervised('train.txt')"
      ],
      "metadata": {
        "id": "x-r9xPXCWrtA"
      },
      "execution_count": 285,
      "outputs": []
    },
    {
      "cell_type": "markdown",
      "source": [
        "Now let's see how the model does on the test set."
      ],
      "metadata": {
        "id": "eHy9CMoSXl-T"
      }
    },
    {
      "cell_type": "code",
      "source": [
        "model.test('test.txt')  "
      ],
      "metadata": {
        "colab": {
          "base_uri": "https://localhost:8080/"
        },
        "id": "Auhoc7wHX3DF",
        "outputId": "3a173b23-192a-4329-c7e6-653c47d46c58"
      },
      "execution_count": 286,
      "outputs": [
        {
          "output_type": "execute_result",
          "data": {
            "text/plain": [
              "(7063, 0.9835763839728161, 0.9835763839728161)"
            ]
          },
          "metadata": {},
          "execution_count": 286
        }
      ]
    },
    {
      "cell_type": "markdown",
      "source": [
        "The output are the number of samples (here 7063), the precision at one (0.98) and the recall at one (0.98)."
      ],
      "metadata": {
        "id": "ou6zG5tdXuTo"
      }
    }
  ]
}